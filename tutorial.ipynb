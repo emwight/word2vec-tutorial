{
 "cells": [
  {
   "cell_type": "markdown",
   "metadata": {},
   "source": [
    "# word2vec"
   ]
  },
  {
   "attachments": {},
   "cell_type": "markdown",
   "metadata": {},
   "source": [
    "## Sources\n",
    "https://code.google.com/archive/p/word2vec/\n",
    "- corpus as input, word vectors as output\n",
    "- constructs vocabulary from data and learns a vector representation => features in NLP, word clustering, and more\n",
    "- from output, look at closest words or phrases (word2phrase) from user-specified word based on distance (cosine, etc.)\n",
    "- distances can be added/subtracted => correspond to actual word relationships (king - man + woman = queen, etc.)\n",
    "- two learning algorithms: continuous bag-of-words and continuous skip-gram\n",
    "- performance: look at accuracy, but mainly concerned about speed (algorithms, sub=sampling of frequent words, dimensionality, window size)\n",
    "\n",
    "https://arxiv.org/pdf/1301.3781.pdf\n",
    "- Continuous bag of words: continuous distributed representation of the context; order of words in history/future doesn't influence projection; predicts current word based on context\n",
    "- Continuous skip-gram model: maximize classification of a word based on another word in the same sentence; continuous projection layer and predict words within a certain range before and after input word; predicts surrounding words given the current word\n",
    "\n",
    "- https://jalammar.github.io/illustrated-word2vec/\n",
    "- https://www.tensorflow.org/tutorials/text/word2vec\n",
    "- https://towardsdatascience.com/word2vec-explained-49c52b4ccb71\n",
    "- https://wiki.pathmind.com/word2vec\n",
    "- https://www.analyticsvidhya.com/blog/2021/07/word2vec-for-word-embeddings-a-beginners-guide/\n",
    "- https://arxiv.org/abs/1310.4546\n"
   ]
  }
 ],
 "metadata": {
  "language_info": {
   "name": "python"
  },
  "orig_nbformat": 4
 },
 "nbformat": 4,
 "nbformat_minor": 2
}
