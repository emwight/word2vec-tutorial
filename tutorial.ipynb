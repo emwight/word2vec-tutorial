{
 "cells": [
  {
   "attachments": {},
   "cell_type": "markdown",
   "metadata": {},
   "source": [
    "# word2vec\n",
    "\n",
    "## Background\n",
    "\n",
    "## Theory\n",
    "\n",
    "## Implementation with `nltk` and `gensim`"
   ]
  },
  {
   "cell_type": "code",
   "execution_count": 2,
   "metadata": {},
   "outputs": [],
   "source": [
    "from nltk.tokenize import sent_tokenize, word_tokenize\n",
    "from gensim.models import Word2Vec"
   ]
  },
  {
   "attachments": {},
   "cell_type": "markdown",
   "metadata": {},
   "source": [
    "## The Importance of Being Earnest\n",
    "\n",
    "- Manually went into the txt file and deleted all text except for the play itself\n",
    "\n",
    "- code borrowed from https://www.geeksforgeeks.org/python-word-embedding-using-word2vec/\n",
    "\n",
    "https://radimrehurek.com/gensim/models/word2vec.html"
   ]
  },
  {
   "cell_type": "code",
   "execution_count": 5,
   "metadata": {},
   "outputs": [],
   "source": [
    "## PREPROCESSING\n",
    "# read in text\n",
    "with open(\"earnest.txt\", encoding=\"utf8\") as text:\n",
    "    t =  text.read()\n",
    "\n",
    "# clean\n",
    "t2 = t.replace(\"\\ufeff\", \"\")\n",
    "earnest = t2.replace(\"\\n\", \" \")\n",
    "\n",
    "# tokenize each sentence and word, save as vector\n",
    "tokens = []\n",
    "for i in sent_tokenize(earnest): # each sentence\n",
    "    temp = []\n",
    "\n",
    "    for j in word_tokenize(i): # each word\n",
    "        temp.append(j.lower())\n",
    "\n",
    "    tokens.append(temp)\n"
   ]
  },
  {
   "cell_type": "code",
   "execution_count": 24,
   "metadata": {},
   "outputs": [],
   "source": [
    "model1 = Word2Vec(tokens, min_count = 1, vector_size = 100, window = 5)"
   ]
  },
  {
   "attachments": {},
   "cell_type": "markdown",
   "metadata": {},
   "source": [
    "## Jeopardy"
   ]
  },
  {
   "cell_type": "code",
   "execution_count": 15,
   "metadata": {},
   "outputs": [],
   "source": [
    "import json\n",
    "\n",
    "with open('JEOPARDY_QUESTIONS1.json') as text:\n",
    "    data = json.load(text)\n",
    "\n",
    "questions = [i['question'] + \" \" + i['answer'] for i in data]\n",
    "\n",
    "tokens = [j.lower() for i in questions[0:6] for j in word_tokenize(i)]"
   ]
  },
  {
   "attachments": {},
   "cell_type": "markdown",
   "metadata": {},
   "source": [
    "## Sources\n",
    "https://code.google.com/archive/p/word2vec/\n",
    "- corpus as input, word vectors as output\n",
    "- constructs vocabulary from data and learns a vector representation => features in NLP, word clustering, and more\n",
    "- from output, look at closest words or phrases (word2phrase) from user-specified word based on distance (cosine, etc.)\n",
    "- distances can be added/subtracted => correspond to actual word relationships (king - man + woman = queen, etc.)\n",
    "- two learning algorithms: continuous bag-of-words and continuous skip-gram\n",
    "- performance: look at accuracy, but mainly concerned about speed (algorithms, sub=sampling of frequent words, dimensionality, window size)\n",
    "\n",
    "https://arxiv.org/pdf/1301.3781.pdf\n",
    "- Continuous bag of words: continuous distributed representation of the context; order of words in history/future doesn't influence projection; predicts current word based on context\n",
    "- Continuous skip-gram model: maximize classification of a word based on another word in the same sentence; continuous projection layer and predict words within a certain range before and after input word; predicts surrounding words given the current word\n",
    "\n",
    "https://www.geeksforgeeks.org/python-word-embedding-using-word2vec/\n",
    "- Implementation\n",
    "\n",
    "- https://jalammar.github.io/illustrated-word2vec/\n",
    "- https://www.tensorflow.org/tutorials/text/word2vec\n",
    "- https://towardsdatascience.com/word2vec-explained-49c52b4ccb71\n",
    "- https://wiki.pathmind.com/word2vec\n",
    "- https://www.analyticsvidhya.com/blog/2021/07/word2vec-for-word-embeddings-a-beginners-guide/\n",
    "- https://arxiv.org/abs/1310.4546\n"
   ]
  }
 ],
 "metadata": {
  "kernelspec": {
   "display_name": "base",
   "language": "python",
   "name": "python3"
  },
  "language_info": {
   "codemirror_mode": {
    "name": "ipython",
    "version": 3
   },
   "file_extension": ".py",
   "mimetype": "text/x-python",
   "name": "python",
   "nbconvert_exporter": "python",
   "pygments_lexer": "ipython3",
   "version": "3.9.12"
  },
  "orig_nbformat": 4
 },
 "nbformat": 4,
 "nbformat_minor": 2
}
